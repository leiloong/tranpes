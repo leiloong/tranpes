{
 "cells": [
  {
   "cell_type": "code",
   "execution_count": 3,
   "metadata": {
    "collapsed": false
   },
   "outputs": [],
   "source": [
    "import pickle\n",
    "import sys\n",
    "sys.path.append('/Users/yuwu/Documents/git-repo/tranpes/')\n",
    "from model import *"
   ]
  },
  {
   "cell_type": "code",
   "execution_count": 4,
   "metadata": {
    "collapsed": true
   },
   "outputs": [],
   "source": [
    "class DD(dict):\n",
    "    \"\"\"This class is only used to replace a state variable of Jobman\"\"\"\n",
    "\n",
    "    def __getattr__(self, attr):\n",
    "        if attr == '__getstate__':\n",
    "            return super(DD, self).__getstate__\n",
    "        elif attr == '__setstate__':\n",
    "            return super(DD, self).__setstate__\n",
    "        elif attr == '__slots__':\n",
    "            return super(DD, self).__slots__\n",
    "        return self[attr]\n",
    "\n",
    "    def __setattr__(self, attr, value):\n",
    "        assert attr not in ('__getstate__', '__setstate__', '__slots__')\n",
    "        self[attr] = value\n",
    "\n",
    "    def __str__(self):\n",
    "        return 'DD%s' % dict(self)\n",
    "\n",
    "    def __repr__(self):\n",
    "        return str(self)\n",
    "\n",
    "    def __deepcopy__(self, memo):\n",
    "        z = DD()\n",
    "        for k, kv in self.iteritems():\n",
    "            z[k] = copy.deepcopy(kv, memo)\n",
    "        return z"
   ]
  },
  {
   "cell_type": "code",
   "execution_count": 66,
   "metadata": {
    "collapsed": false
   },
   "outputs": [],
   "source": [
    "from numpy.linalg import solve\n",
    "\n",
    "def load_pkl(path):\n",
    "    f = open(path, 'rb')\n",
    "    data = sp.csr_matrix(pickle.load(f), dtype=theano.config.floatX)\n",
    "    return data\n",
    "\n",
    "def convert2idx(spmat):\n",
    "    rows, cols = spmat.nonzero()\n",
    "    return rows[np.argsort(cols)]\n",
    "\n",
    "def NProjecVec(A, vec):\n",
    "    \"\"\"\n",
    "    This function calculate the projection of vec onto the\n",
    "    column plane spanned by A\n",
    "    \"\"\"\n",
    "    return  np.dot(np.dot(A, solve(np.dot(A.T, A) + 1e-8*np.eye(2), A.T)), vec)\n",
    "\n",
    "def NRankingScoreIdx(embedding_np, relation_np, idx_h, idx_l, idx_t, subtensorspec=None):\n",
    "    errh = []\n",
    "    errt = []\n",
    "\n",
    "\n",
    "    embedding_sub = embedding_np[:, :subtensorspec]   # we only compute the score for a subset of entities\n",
    "    for h, l, t in zip(idx_h, idx_l, idx_t):\n",
    "        hscore = np.zeros(subtensorspec)\n",
    "        tscore = np.zeros(subtensorspec)\n",
    "        hvec = embedding_np[:,h]\n",
    "        tvec = embedding_np[:,t]\n",
    "        for i in range(subtensorspec):\n",
    "            x = embedding_np[:,i] + NProjecVec(embedding_np[:,[i, t]], relation_np[:,l]) - tvec\n",
    "            hscore[i] = -np.sqrt(x.dot(x))\n",
    "            y = hvec + NProjecVec(embedding_np[:,[h, i]],relation_np[:,l]) - embedding_np[:,i]\n",
    "            tscore[i] = -np.sqrt(y.dot(y))\n",
    "        errh += [np.argsort(np.argsort(\n",
    "                hscore.flatten())[::-1]).flatten() + 1]\n",
    "        errt += [np.argsort(np.argsort(\n",
    "                tscore.flatten())[::-1]).flatten() + 1]\n",
    "    return errh, errt \n",
    "    \n",
    "\n",
    "def FilteredNRankingScoreIdx(embedding_np, relation_np, idx_h, idx_l, idx_t, true_triples, subtensorspec=None):\n",
    "    errh = []\n",
    "    errt = []\n",
    "\n",
    "\n",
    "    embedding_sub = embedding_np[:, :subtensorspec]   # we only compute the score for a subset of entities\n",
    "    for h, l, t in zip(idx_h, idx_l, idx_t):\n",
    "        hscore = np.zeros(subtensorspec)\n",
    "        tscore = np.zeros(subtensorspec)\n",
    "        hvec = embedding_np[:,h]\n",
    "        tvec = embedding_np[:,t]\n",
    "        for i in range(subtensorspec):\n",
    "            x = embedding_np[:,i] + NProjecVec(embedding_np[:,[i, t]], relation_np[:,l]) - tvec\n",
    "            hscore[i] = -np.sqrt(x.dot(x))\n",
    "            y = hvec + NProjecVec(embedding_np[:,[h, i]],relation_np[:,l]) - embedding_np[:,i]\n",
    "            tscore[i] = -np.sqrt(y.dot(y))\n",
    "        errh += [np.argsort(np.argsort(\n",
    "                hscore.flatten())[::-1]).flatten() + 1]\n",
    "        errt += [np.argsort(np.argsort(\n",
    "                tscore.flatten())[::-1]).flatten() + 1]\n",
    "    return errh, errt \n",
    "    "
   ]
  },
  {
   "cell_type": "code",
   "execution_count": 16,
   "metadata": {
    "collapsed": false
   },
   "outputs": [
    {
     "name": "stdout",
     "output_type": "stream",
     "text": [
      "DD{'nbepochs': 500, 'marge': 0.4, 'neval': 10, 'simfn': 'L2', 'Nbrel': 1345, 'nbatches': 100, 'op': 'tranPES', 'savepath': 'FB15k_tranPES', 'ndim': 100, 'bestvalid': -1, 'test_all': 10, 'Nbent': 16296, 'alpha': 1.0, 'lremb': 0.002, 'dataset': 'FB15k', 'datapath': 'data/', 'beta': 0.01, 'lrparam': 0.002, 'seed': 123, 'Nbsyn': 14951, 'totepochs': 500}\n"
     ]
    }
   ],
   "source": [
    "import numpy as np\n",
    "import scipy.sparse as sp\n",
    "\n",
    "## main snippet_1\n",
    "f = open('state.pkl', 'rb')\n",
    "state = pickle.load(f)\n",
    "f.close()\n",
    "state.neval = 10\n",
    "state.bestvalid = -1\n",
    "print(state)\n",
    "\n",
    "np.random.seed(state.seed)\n",
    "\n",
    "# Positives\n",
    "trainhmat = load_pkl(state.datapath + 'FB15k-train-hs.pkl')\n",
    "trainlmat = load_pkl(state.datapath + 'FB15k-train-ls.pkl')\n",
    "traintmat = load_pkl(state.datapath + 'FB15k-train-ts.pkl')\n",
    "if state.op == 'tranPES':\n",
    "    trainhmat = trainhmat[:state.Nbsyn, :]\n",
    "    trainlmat = trainlmat[-state.Nbrel:, :]\n",
    "    traintmat = traintmat[:state.Nbsyn, :]\n",
    "\n",
    "# Valid set\n",
    "validhmat = load_pkl(state.datapath + 'FB15k-valid-hs.pkl')\n",
    "validlmat = load_pkl(state.datapath + 'FB15k-valid-ls.pkl')\n",
    "validtmat = load_pkl(state.datapath + 'FB15k-valid-ts.pkl')\n",
    "if state.op == 'tranPES':\n",
    "    validhmat = validhmat[:state.Nbsyn, :]\n",
    "    validlmat = validlmat[-state.Nbrel:, :]\n",
    "    validtmat = validtmat[:state.Nbsyn, :]\n",
    "\n",
    "# Test set\n",
    "testhmat = load_pkl(state.datapath + 'FB15k-test-hs.pkl')\n",
    "testlmat = load_pkl(state.datapath + 'FB15k-test-ls.pkl')\n",
    "testtmat = load_pkl(state.datapath + 'FB15k-test-ts.pkl')\n",
    "if state.op == 'tranPES':\n",
    "    testhmat = testhmat[:state.Nbsyn, :]\n",
    "    testlmat = testlmat[-state.Nbrel:, :]\n",
    "    testtmat = testtmat[:state.Nbsyn, :]\n",
    "\n",
    "# Index conversion\n",
    "trainhidx = convert2idx(trainhmat)[: state.neval]\n",
    "trainlidx = convert2idx(trainlmat)[: state.neval]\n",
    "traintidx = convert2idx(traintmat)[: state.neval]\n",
    "validhidx = convert2idx(validhmat)[: state.neval]\n",
    "validlidx = convert2idx(validlmat)[: state.neval]\n",
    "validtidx = convert2idx(validtmat)[: state.neval]\n",
    "testhidx = convert2idx(testhmat)[: state.neval]\n",
    "testlidx = convert2idx(testlmat)[: state.neval]\n",
    "testtidx = convert2idx(testtmat)[: state.neval]\n",
    "\n",
    "idxh = convert2idx(trainhmat)\n",
    "idxl = convert2idx(trainlmat)\n",
    "idxt = convert2idx(traintmat)\n",
    "idxvh = convert2idx(validhmat)\n",
    "idxvl = convert2idx(validlmat)\n",
    "idxvt = convert2idx(validtmat)\n",
    "idxth = convert2idx(testhmat)\n",
    "idxtl = convert2idx(testlmat)\n",
    "idxtt = convert2idx(testtmat)\n",
    "\n",
    "true_triples = np.concatenate([idxh, idxvh, idxth, idxl, idxvl, idxtl, idxt, idxvt, idxtt]).reshape(3,\n",
    "                                                                                                    idxh.shape[0] +\n",
    "                                                                                                    idxvh.shape[0] +\n",
    "                                                                                                    idxth.shape[\n",
    "                                                                                                        0]).T\n",
    "simfn = eval(state.simfn + 'sim')"
   ]
  },
  {
   "cell_type": "code",
   "execution_count": 32,
   "metadata": {
    "collapsed": false
   },
   "outputs": [],
   "source": [
    "# main snippet_2\n",
    "import time\n",
    "\n",
    "f = open(state.savepath + '/' + 'model400' + '.pkl', 'rb')\n",
    "embeddings = pickle.load(f)\n",
    "f.close()\n",
    "embedding_T = embeddings[0]\n",
    "relation_T = embeddings[1]\n",
    "\n",
    "embedding_np = embedding_T.E.eval()\n",
    "relation_np = relation_T.E.eval()"
   ]
  },
  {
   "cell_type": "code",
   "execution_count": 68,
   "metadata": {
    "collapsed": false
   },
   "outputs": [
    {
     "name": "stdout",
     "output_type": "stream",
     "text": [
      "the evaluation took 52.18160891532898\n",
      "DD{'nbepochs': 500, 'marge': 0.4, 'neval': 10, 'simfn': 'L2', 'Nbrel': 1345, 'nbatches': 100, 'op': 'tranPES', 'savepath': 'FB15k_tranPES', 'ndim': 100, 'bestvalid': -1, 'test_all': 10, 'Nbent': 16296, 'alpha': 1.0, 'lremb': 0.002, 'datapath': 'data/', 'dataset': 'FB15k', 'beta': 0.01, 'lrparam': 0.002, 'seed': 123, 'valid': 7476.0, 'Nbsyn': 14951, 'totepochs': 500}\n"
     ]
    }
   ],
   "source": [
    "# main snippet_3 ----- numpywrap for evaluation\n",
    "timeref = time.time()\n",
    "# the argument:: simfn, embedding_np, relation_np, subtensorspec=state.Nbsyn, validhidx, validlidx, validtidx\n",
    "\n",
    "resvalid = NRankingScoreIdx(embedding_np, relation_np, validhidx, validlidx, validtidx, state.Nbsyn)\n",
    "\n",
    "print('the evaluation took %s' % (time.time() - timeref))\n",
    "state.valid = np.mean(resvalid[0] + resvalid[1])\n",
    "print(state)"
   ]
  },
  {
   "cell_type": "code",
   "execution_count": 50,
   "metadata": {
    "collapsed": false
   },
   "outputs": [
    {
     "data": {
      "text/plain": [
       "(100,)"
      ]
     },
     "execution_count": 50,
     "metadata": {},
     "output_type": "execute_result"
    }
   ],
   "source": [
    "## testing windows\n",
    "NProjecVec(embedding_np[:,[1, 2]], relation_np[:,1]).shape"
   ]
  },
  {
   "cell_type": "code",
   "execution_count": null,
   "metadata": {
    "collapsed": true
   },
   "outputs": [],
   "source": []
  }
 ],
 "metadata": {
  "kernelspec": {
   "display_name": "Python 3",
   "language": "python",
   "name": "python3"
  },
  "language_info": {
   "codemirror_mode": {
    "name": "ipython",
    "version": 3
   },
   "file_extension": ".py",
   "mimetype": "text/x-python",
   "name": "python",
   "nbconvert_exporter": "python",
   "pygments_lexer": "ipython3",
   "version": "3.5.1"
  }
 },
 "nbformat": 4,
 "nbformat_minor": 0
}
