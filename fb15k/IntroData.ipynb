{
 "cells": [
  {
   "cell_type": "code",
   "execution_count": 113,
   "metadata": {
    "collapsed": true
   },
   "outputs": [],
   "source": [
    "import pickle\n",
    "import scipy.sparse as sp\n",
    "import copy\n",
    "import theano\n",
    "import numpy as np\n",
    "import sys\n",
    "sys.path.append('/Users/yuwu/Desktop/tranpes')\n",
    "from model import *\n",
    "import time"
   ]
  },
  {
   "cell_type": "code",
   "execution_count": 102,
   "metadata": {
    "collapsed": true
   },
   "outputs": [],
   "source": [
    "class DD(dict):\n",
    "    \"\"\"This class is only used to replace a state variable of Jobman\"\"\"\n",
    "\n",
    "    def __getattr__(self, attr):\n",
    "        if attr == '__getstate__':\n",
    "            return super(DD, self).__getstate__\n",
    "        elif attr == '__setstate__':\n",
    "            return super(DD, self).__setstate__\n",
    "        elif attr == '__slots__':\n",
    "            return super(DD, self).__slots__\n",
    "        return self[attr]\n",
    "\n",
    "    def __setattr__(self, attr, value):\n",
    "        assert attr not in ('__getstate__', '__setstate__', '__slots__')\n",
    "        self[attr] = value\n",
    "\n",
    "    def __str__(self):\n",
    "        return 'DD%s' % dict(self)\n",
    "\n",
    "    def __repr__(self):\n",
    "        return str(self)\n",
    "\n",
    "    def __deepcopy__(self, memo):\n",
    "        z = DD()\n",
    "        for k, kv in self.iteritems():\n",
    "            z[k] = copy.deepcopy(kv, memo)\n",
    "        return z\n",
    "\n",
    "def load_pkl(path):\n",
    "    return sp.csr_matrix(pickle.load(open(path, 'rb')),\n",
    "                         dtype=theano.config.floatX)\n",
    "\n",
    "def convert2idx(spmat):\n",
    "    rows, cols = spmat.nonzero()\n",
    "    return rows[np.argsort(cols)]\n",
    "\n",
    "def convert2label(avghl, avgtl):\n",
    "    if avghl <= 1.5:\n",
    "        strt = '1'\n",
    "    else:\n",
    "        strt = 'Many'\n",
    "\n",
    "    if avgtl <= 1.5:\n",
    "        strh = '1'\n",
    "    else: \n",
    "        strh = 'Many'\n",
    "    return '-To-'.join((strh, strt))\n"
   ]
  },
  {
   "cell_type": "code",
   "execution_count": 112,
   "metadata": {
    "collapsed": false
   },
   "outputs": [
    {
     "name": "stdout",
     "output_type": "stream",
     "text": [
      "DD{'nbatches': 100, 'seed': 123, 'dataset': 'FB15k', 'datapath': 'data/', 'marge': 0.4, 'test_all': 10, 'bestmodel': 'model490', 'alpha': 1.0, 'nbepochs': 500, 'valid': 198.41, 'lremb': 0.002, 'bestvalid': 198.41, 'beta': 0.01, 'Nbrel': 1345, 'Nbsyn': 14951, 'lrparam': 0.002, 'besttrain': 93.025999999999996, 'op': 'tranPES', 'savepath': 'FB15k_tranPES', 'totepochs': 500, 'ndim': 100, 'besttest': 212.98849999999999, 'simfn': 'L2', 'neval': 1000, 'Nbent': 16296}\n"
     ]
    }
   ],
   "source": [
    "# load the state of the model\n",
    "f = open('best_state.pkl', mode='rb')\n",
    "state = pickle.load(f)\n",
    "f.close()\n",
    "print(state)\n",
    "\n",
    "# load the triplets data\n",
    "trainhmat = load_pkl(state.datapath + state.dataset + '-train-hs.pkl')\n",
    "trainlmat = load_pkl(state.datapath + state.dataset + '-train-ls.pkl')\n",
    "traintmat = load_pkl(state.datapath + state.dataset + '-train-ts.pkl')\n",
    "if state.op == 'tranPES':\n",
    "    trainhmat = trainhmat[:state.Nbsyn, :]\n",
    "    trainlmat = trainlmat[-state.Nbrel:, :]\n",
    "    traintmat = traintmat[:state.Nbsyn, :]\n",
    "\n",
    "# Valid set\n",
    "validhmat = load_pkl(state.datapath + 'FB15k-valid-hs.pkl')\n",
    "validlmat = load_pkl(state.datapath + 'FB15k-valid-ls.pkl')\n",
    "validtmat = load_pkl(state.datapath + 'FB15k-valid-ts.pkl')\n",
    "if state.op == 'tranPES':\n",
    "    validhmat = validhmat[:state.Nbsyn, :]\n",
    "    validlmat = validlmat[-state.Nbrel:, :]\n",
    "    validtmat = validtmat[:state.Nbsyn, :]\n",
    "\n",
    "# Test set\n",
    "testhmat = load_pkl(state.datapath + 'FB15k-test-hs.pkl')\n",
    "testlmat = load_pkl(state.datapath + 'FB15k-test-ls.pkl')\n",
    "testtmat = load_pkl(state.datapath + 'FB15k-test-ts.pkl')\n",
    "if state.op == 'tranPES':\n",
    "    testhmat = testhmat[:state.Nbsyn, :]\n",
    "    testlmat = testlmat[-state.Nbrel:, :]\n",
    "    testtmat = testtmat[:state.Nbsyn, :]\n",
    "\n",
    " # Index conversion\n",
    "trainhidx = convert2idx(trainhmat)[: state.neval]\n",
    "trainlidx = convert2idx(trainlmat)[: state.neval]\n",
    "traintidx = convert2idx(traintmat)[: state.neval]\n",
    "validhidx = convert2idx(validhmat)[: state.neval]\n",
    "validlidx = convert2idx(validlmat)[: state.neval]\n",
    "validtidx = convert2idx(validtmat)[: state.neval]\n",
    "testhidx = convert2idx(testhmat)[: state.neval]\n",
    "testlidx = convert2idx(testlmat)[: state.neval]\n",
    "testtidx = convert2idx(testtmat)[: state.neval]\n",
    "\n",
    "idxh = convert2idx(trainhmat)\n",
    "idxl = convert2idx(trainlmat)\n",
    "idxt = convert2idx(traintmat)\n",
    "idxvh = convert2idx(validhmat)\n",
    "idxvl = convert2idx(validlmat)\n",
    "idxvt = convert2idx(validtmat)\n",
    "idxth = convert2idx(testhmat)\n",
    "idxtl = convert2idx(testlmat)\n",
    "idxtt = convert2idx(testtmat)\n",
    "\n",
    "true_triples = np.concatenate([idxh, idxvh, idxth, idxl, idxvl, idxtl, idxt, idxvt, idxtt]).reshape(3,\n",
    "                                                                                                    idxh.shape[0] +\n",
    "                                                                                                    idxvh.shape[0] +\n",
    "                                                                                                    idxth.shape[\n",
    "                                                                                                        0]).T\n",
    "simfn = eval(state.simfn + 'sim')"
   ]
  },
  {
   "cell_type": "code",
   "execution_count": 119,
   "metadata": {
    "collapsed": false
   },
   "outputs": [
    {
     "data": {
      "text/plain": [
       "[('1-To-Many', 305),\n",
       " ('Many-To-Many', 307),\n",
       " ('1-To-1', 353),\n",
       " ('Many-To-1', 380)]"
      ]
     },
     "execution_count": 119,
     "metadata": {},
     "output_type": "execute_result"
    }
   ],
   "source": [
    "idx2cat = {}\n",
    "cat2idx = {}\n",
    "for lidx in range(0, state.Nbrel): \n",
    "    lo = np.argwhere(true_triples[:,1] == lidx).flatten()\n",
    "\n",
    "    hl = true_triples[lo, 0]\n",
    "    _, hlcounts = np.unique(hl, return_counts=True)\n",
    "\n",
    "    lt = true_triples[lo, 2]\n",
    "    _, tlcounts = np.unique(lt, return_counts=True)\n",
    "    idx2cat[lidx] = convert2label(hlcounts.mean(), tlcounts.mean())\n",
    "    cat2idx.setdefault(convert2label(hlcounts.mean(), tlcounts.mean()), []).append(lidx)\n",
    "\n",
    "    \n",
    "vlist = list(idx2cat.values())\n",
    "[(s, vlist.count(s)) for s in set(vlist)]"
   ]
  },
  {
   "cell_type": "code",
   "execution_count": 121,
   "metadata": {
    "collapsed": false
   },
   "outputs": [],
   "source": [
    "f = open(state.savepath + '/' + state.bestmodel + '.pkl', 'rb')\n",
    "embeddings = pickle.load(f)\n",
    "f.close()\n",
    "\n",
    "rankhfunc = RankHeadFnIdx(simfn, embeddings, subtensorspec=state.Nbsyn)\n",
    "ranktfunc = RankTailFnIdx(simfn, embeddings, subtensorspec=state.Nbsyn)\n",
    "\n"
   ]
  },
  {
   "cell_type": "code",
   "execution_count": null,
   "metadata": {
    "collapsed": true
   },
   "outputs": [],
   "source": [
    "timeref = time.time()\n",
    "hrank, trank = PRankingScoreIdx(rankhfunc, ranktfunc, idxth, idxtl, idxtt)\n",
    "print('the evaluation took %s' % (time.time() - timeref))"
   ]
  },
  {
   "cell_type": "code",
   "execution_count": 139,
   "metadata": {
    "collapsed": false
   },
   "outputs": [],
   "source": [
    "def hitn(lis):\n",
    "    return np.mean(np.asarray(lis, dtype=np.int32) <=10)*100\n",
    "        "
   ]
  },
  {
   "cell_type": "code",
   "execution_count": 151,
   "metadata": {
    "collapsed": false
   },
   "outputs": [
    {
     "name": "stdout",
     "output_type": "stream",
     "text": [
      "#Predicting head:\n",
      "      1-To-1        1-To-M        M-To-1        M-To-M\n",
      "15.1300236407%  16.9289099526%  16.3522740424%  16.5993364779%\n",
      "#Predicting tail:\n",
      "      1-To-1        1-To-M        M-To-1        M-To-M\n",
      "1.6548463357%  0.947867298578%  1.29614627937%  1.12392516193%\n"
     ]
    }
   ],
   "source": [
    "hcat2rank = {}\n",
    "tcat2rank = {}\n",
    "\n",
    "for hs, ts, linkid in zip(hrank, trank, idxtl):\n",
    "    hcat2rank.setdefault(idx2cat[linkid], []).append(hs) \n",
    "    tcat2rank.setdefault(idx2cat[linkid], []).append(ts) \n",
    "\n",
    "print('#Predicting head:')\n",
    "print('%12s  %12s  %12s  %12s' % ('1-To-1', '1-To-M', 'M-To-1', 'M-To-M'))\n",
    "print('%12s%%  %12s%%  %12s%%  %12s%%' % (hitn(hcat2rank['1-To-1']), hitn(hcat2rank['1-To-Many']),\n",
    "                                    hitn(hcat2rank['Many-To-1']), hitn(hcat2rank['Many-To-Many'])))\n",
    "\n",
    "print('#Predicting tail:')\n",
    "print('%12s  %12s  %12s  %12s' % ('1-To-1', '1-To-M', 'M-To-1', 'M-To-M'))\n",
    "print('%12s%%  %12s%%  %12s%%  %12s%%' % (hitn(tcat2rank['1-To-1']), hitn(tcat2rank['1-To-Many']),\n",
    "                                    hitn(tcat2rank['Many-To-1']), hitn(tcat2rank['Many-To-Many'])))"
   ]
  },
  {
   "cell_type": "code",
   "execution_count": 150,
   "metadata": {
    "collapsed": false
   },
   "outputs": [],
   "source": [
    "hrank = np.random.randint(1,60, size=idxtl.shape)\n",
    "trank = np.random.randint(1,900, size=idxtl.shape)"
   ]
  },
  {
   "cell_type": "code",
   "execution_count": null,
   "metadata": {
    "collapsed": true
   },
   "outputs": [],
   "source": []
  }
 ],
 "metadata": {
  "kernelspec": {
   "display_name": "Python 3",
   "language": "python",
   "name": "python3"
  },
  "language_info": {
   "codemirror_mode": {
    "name": "ipython",
    "version": 3
   },
   "file_extension": ".py",
   "mimetype": "text/x-python",
   "name": "python",
   "nbconvert_exporter": "python",
   "pygments_lexer": "ipython3",
   "version": "3.4.2"
  }
 },
 "nbformat": 4,
 "nbformat_minor": 0
}
